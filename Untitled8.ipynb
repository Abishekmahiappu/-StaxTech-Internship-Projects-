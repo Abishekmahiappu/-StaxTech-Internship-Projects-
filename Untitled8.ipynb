{
 "cells": [
  {
   "cell_type": "code",
   "execution_count": 4,
   "id": "fd43413a-6997-4501-8b64-4341576df3f8",
   "metadata": {},
   "outputs": [],
   "source": [
    "import tkinter as tk\n",
    "\n",
    "def press(num):\n",
    "    current = entry.get()\n",
    "    entry.delete(0, tk.END)\n",
    "    entry.insert(0, current + str(num))\n",
    "\n",
    "def equalpress():\n",
    "    try:\n",
    "        result = str(eval(entry.get()))\n",
    "        entry.delete(0, tk.END)\n",
    "        entry.insert(0, result)\n",
    "    except:\n",
    "        entry.delete(0, tk.END)\n",
    "        entry.insert(0, \"Error\")\n",
    "\n",
    "def clear():\n",
    "    entry.delete(0, tk.END)\n",
    "\n",
    "window = tk.Tk()\n",
    "window.title(\"Simple Calculator\")\n",
    "window.geometry(\"300x400\")\n",
    "window.resizable(False, False)\n",
    "\n",
    "entry = tk.Entry(window, font=('Arial', 20), bd=10, insertwidth=2, width=14, borderwidth=4, justify='right')\n",
    "entry.grid(row=0, column=0, columnspan=4)\n",
    "\n",
    "buttons = [\n",
    "    ('7', 1, 0), ('8', 1, 1), ('9', 1, 2), ('/', 1, 3),\n",
    "    ('4', 2, 0), ('5', 2, 1), ('6', 2, 2), ('*', 2, 3),\n",
    "    ('1', 3, 0), ('2', 3, 1), ('3', 3, 2), ('-', 3, 3),\n",
    "    ('0', 4, 0), ('.', 4, 1), ('=', 4, 2), ('+', 4, 3),\n",
    "]\n",
    "\n",
    "for (text, row, col) in buttons:\n",
    "    if text == '=':\n",
    "        action = equalpress\n",
    "    else:\n",
    "        action = lambda x=text: press(x)\n",
    "    tk.Button(window, text=text, padx=20, pady=20, font=('Arial', 15), command=action).grid(row=row, column=col)\n",
    "\n",
    "tk.Button(window, text='C', padx=20, pady=20, font=('Arial', 15), command=clear).grid(row=5, column=0, columnspan=4, sticky='we')\n",
    "\n",
    "window.mainloop()\n"
   ]
  },
  {
   "cell_type": "code",
   "execution_count": null,
   "id": "eb219e47-569e-4bcc-93c8-e93e5ccf8e54",
   "metadata": {},
   "outputs": [],
   "source": []
  }
 ],
 "metadata": {
  "kernelspec": {
   "display_name": "Python [conda env:base] *",
   "language": "python",
   "name": "conda-base-py"
  },
  "language_info": {
   "codemirror_mode": {
    "name": "ipython",
    "version": 3
   },
   "file_extension": ".py",
   "mimetype": "text/x-python",
   "name": "python",
   "nbconvert_exporter": "python",
   "pygments_lexer": "ipython3",
   "version": "3.12.7"
  }
 },
 "nbformat": 4,
 "nbformat_minor": 5
}
